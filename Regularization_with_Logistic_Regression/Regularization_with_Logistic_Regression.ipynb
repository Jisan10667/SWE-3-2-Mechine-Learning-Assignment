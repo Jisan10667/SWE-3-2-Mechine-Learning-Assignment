{
  "nbformat": 4,
  "nbformat_minor": 0,
  "metadata": {
    "colab": {
      "provenance": [],
      "include_colab_link": true
    },
    "kernelspec": {
      "name": "python3",
      "display_name": "Python 3"
    },
    "language_info": {
      "name": "python"
    }
  },
  "cells": [
    {
      "cell_type": "markdown",
      "metadata": {
        "id": "view-in-github",
        "colab_type": "text"
      },
      "source": [
        "<a href=\"https://colab.research.google.com/github/Jisan10667/SWE-3-2-Mechine-Learning-Assignment/blob/main/Regularization_with_Logistic_Regression/Regularization_with_Logistic_Regression.ipynb\" target=\"_parent\"><img src=\"https://colab.research.google.com/assets/colab-badge.svg\" alt=\"Open In Colab\"/></a>"
      ]
    },
    {
      "cell_type": "code",
      "execution_count": null,
      "metadata": {
        "id": "LkCipJF-F-wK"
      },
      "outputs": [],
      "source": [
        "import pandas as pd\n",
        "import matplotlib.pyplot as plt\n",
        "import csv\n",
        "import numpy as np\n",
        "import seaborn as sns\n",
        "import pprint as pp\n",
        "import copy\n",
        "import math"
      ]
    },
    {
      "cell_type": "code",
      "source": [
        "from google.colab import files\n",
        "uploaded = files.upload()"
      ],
      "metadata": {
        "colab": {
          "base_uri": "https://localhost:8080/",
          "height": 77
        },
        "id": "WTTheCp3WE35",
        "outputId": "39b2ca97-a222-45a7-f071-79f47f525385"
      },
      "execution_count": null,
      "outputs": [
        {
          "output_type": "display_data",
          "data": {
            "text/plain": [
              "<IPython.core.display.HTML object>"
            ],
            "text/html": [
              "\n",
              "     <input type=\"file\" id=\"files-c5c7db16-0303-48e0-84c3-1ae25cecbbe5\" name=\"files[]\" multiple disabled\n",
              "        style=\"border:none\" />\n",
              "     <output id=\"result-c5c7db16-0303-48e0-84c3-1ae25cecbbe5\">\n",
              "      Upload widget is only available when the cell has been executed in the\n",
              "      current browser session. Please rerun this cell to enable.\n",
              "      </output>\n",
              "      <script>// Copyright 2017 Google LLC\n",
              "//\n",
              "// Licensed under the Apache License, Version 2.0 (the \"License\");\n",
              "// you may not use this file except in compliance with the License.\n",
              "// You may obtain a copy of the License at\n",
              "//\n",
              "//      http://www.apache.org/licenses/LICENSE-2.0\n",
              "//\n",
              "// Unless required by applicable law or agreed to in writing, software\n",
              "// distributed under the License is distributed on an \"AS IS\" BASIS,\n",
              "// WITHOUT WARRANTIES OR CONDITIONS OF ANY KIND, either express or implied.\n",
              "// See the License for the specific language governing permissions and\n",
              "// limitations under the License.\n",
              "\n",
              "/**\n",
              " * @fileoverview Helpers for google.colab Python module.\n",
              " */\n",
              "(function(scope) {\n",
              "function span(text, styleAttributes = {}) {\n",
              "  const element = document.createElement('span');\n",
              "  element.textContent = text;\n",
              "  for (const key of Object.keys(styleAttributes)) {\n",
              "    element.style[key] = styleAttributes[key];\n",
              "  }\n",
              "  return element;\n",
              "}\n",
              "\n",
              "// Max number of bytes which will be uploaded at a time.\n",
              "const MAX_PAYLOAD_SIZE = 100 * 1024;\n",
              "\n",
              "function _uploadFiles(inputId, outputId) {\n",
              "  const steps = uploadFilesStep(inputId, outputId);\n",
              "  const outputElement = document.getElementById(outputId);\n",
              "  // Cache steps on the outputElement to make it available for the next call\n",
              "  // to uploadFilesContinue from Python.\n",
              "  outputElement.steps = steps;\n",
              "\n",
              "  return _uploadFilesContinue(outputId);\n",
              "}\n",
              "\n",
              "// This is roughly an async generator (not supported in the browser yet),\n",
              "// where there are multiple asynchronous steps and the Python side is going\n",
              "// to poll for completion of each step.\n",
              "// This uses a Promise to block the python side on completion of each step,\n",
              "// then passes the result of the previous step as the input to the next step.\n",
              "function _uploadFilesContinue(outputId) {\n",
              "  const outputElement = document.getElementById(outputId);\n",
              "  const steps = outputElement.steps;\n",
              "\n",
              "  const next = steps.next(outputElement.lastPromiseValue);\n",
              "  return Promise.resolve(next.value.promise).then((value) => {\n",
              "    // Cache the last promise value to make it available to the next\n",
              "    // step of the generator.\n",
              "    outputElement.lastPromiseValue = value;\n",
              "    return next.value.response;\n",
              "  });\n",
              "}\n",
              "\n",
              "/**\n",
              " * Generator function which is called between each async step of the upload\n",
              " * process.\n",
              " * @param {string} inputId Element ID of the input file picker element.\n",
              " * @param {string} outputId Element ID of the output display.\n",
              " * @return {!Iterable<!Object>} Iterable of next steps.\n",
              " */\n",
              "function* uploadFilesStep(inputId, outputId) {\n",
              "  const inputElement = document.getElementById(inputId);\n",
              "  inputElement.disabled = false;\n",
              "\n",
              "  const outputElement = document.getElementById(outputId);\n",
              "  outputElement.innerHTML = '';\n",
              "\n",
              "  const pickedPromise = new Promise((resolve) => {\n",
              "    inputElement.addEventListener('change', (e) => {\n",
              "      resolve(e.target.files);\n",
              "    });\n",
              "  });\n",
              "\n",
              "  const cancel = document.createElement('button');\n",
              "  inputElement.parentElement.appendChild(cancel);\n",
              "  cancel.textContent = 'Cancel upload';\n",
              "  const cancelPromise = new Promise((resolve) => {\n",
              "    cancel.onclick = () => {\n",
              "      resolve(null);\n",
              "    };\n",
              "  });\n",
              "\n",
              "  // Wait for the user to pick the files.\n",
              "  const files = yield {\n",
              "    promise: Promise.race([pickedPromise, cancelPromise]),\n",
              "    response: {\n",
              "      action: 'starting',\n",
              "    }\n",
              "  };\n",
              "\n",
              "  cancel.remove();\n",
              "\n",
              "  // Disable the input element since further picks are not allowed.\n",
              "  inputElement.disabled = true;\n",
              "\n",
              "  if (!files) {\n",
              "    return {\n",
              "      response: {\n",
              "        action: 'complete',\n",
              "      }\n",
              "    };\n",
              "  }\n",
              "\n",
              "  for (const file of files) {\n",
              "    const li = document.createElement('li');\n",
              "    li.append(span(file.name, {fontWeight: 'bold'}));\n",
              "    li.append(span(\n",
              "        `(${file.type || 'n/a'}) - ${file.size} bytes, ` +\n",
              "        `last modified: ${\n",
              "            file.lastModifiedDate ? file.lastModifiedDate.toLocaleDateString() :\n",
              "                                    'n/a'} - `));\n",
              "    const percent = span('0% done');\n",
              "    li.appendChild(percent);\n",
              "\n",
              "    outputElement.appendChild(li);\n",
              "\n",
              "    const fileDataPromise = new Promise((resolve) => {\n",
              "      const reader = new FileReader();\n",
              "      reader.onload = (e) => {\n",
              "        resolve(e.target.result);\n",
              "      };\n",
              "      reader.readAsArrayBuffer(file);\n",
              "    });\n",
              "    // Wait for the data to be ready.\n",
              "    let fileData = yield {\n",
              "      promise: fileDataPromise,\n",
              "      response: {\n",
              "        action: 'continue',\n",
              "      }\n",
              "    };\n",
              "\n",
              "    // Use a chunked sending to avoid message size limits. See b/62115660.\n",
              "    let position = 0;\n",
              "    do {\n",
              "      const length = Math.min(fileData.byteLength - position, MAX_PAYLOAD_SIZE);\n",
              "      const chunk = new Uint8Array(fileData, position, length);\n",
              "      position += length;\n",
              "\n",
              "      const base64 = btoa(String.fromCharCode.apply(null, chunk));\n",
              "      yield {\n",
              "        response: {\n",
              "          action: 'append',\n",
              "          file: file.name,\n",
              "          data: base64,\n",
              "        },\n",
              "      };\n",
              "\n",
              "      let percentDone = fileData.byteLength === 0 ?\n",
              "          100 :\n",
              "          Math.round((position / fileData.byteLength) * 100);\n",
              "      percent.textContent = `${percentDone}% done`;\n",
              "\n",
              "    } while (position < fileData.byteLength);\n",
              "  }\n",
              "\n",
              "  // All done.\n",
              "  yield {\n",
              "    response: {\n",
              "      action: 'complete',\n",
              "    }\n",
              "  };\n",
              "}\n",
              "\n",
              "scope.google = scope.google || {};\n",
              "scope.google.colab = scope.google.colab || {};\n",
              "scope.google.colab._files = {\n",
              "  _uploadFiles,\n",
              "  _uploadFilesContinue,\n",
              "};\n",
              "})(self);\n",
              "</script> "
            ]
          },
          "metadata": {}
        },
        {
          "output_type": "stream",
          "name": "stdout",
          "text": [
            "Saving data2.txt to data2.txt\n"
          ]
        }
      ]
    },
    {
      "cell_type": "code",
      "source": [
        "data = pd.read_csv('./data2.txt', header=None, names = [\"x1\",\"x2\",\"y\"])\n",
        "data.head()"
      ],
      "metadata": {
        "id": "_ET7Ev_8HF6L",
        "colab": {
          "base_uri": "https://localhost:8080/",
          "height": 206
        },
        "outputId": "7bb70766-2e74-447d-e1bf-6a04ecd66317"
      },
      "execution_count": null,
      "outputs": [
        {
          "output_type": "execute_result",
          "data": {
            "text/plain": [
              "         x1       x2  y\n",
              "0  0.051267  0.69956  1\n",
              "1 -0.092742  0.68494  1\n",
              "2 -0.213710  0.69225  1\n",
              "3 -0.375000  0.50219  1\n",
              "4 -0.513250  0.46564  1"
            ],
            "text/html": [
              "\n",
              "  <div id=\"df-927eb84a-31e1-4c14-86db-bb9d59b7523d\">\n",
              "    <div class=\"colab-df-container\">\n",
              "      <div>\n",
              "<style scoped>\n",
              "    .dataframe tbody tr th:only-of-type {\n",
              "        vertical-align: middle;\n",
              "    }\n",
              "\n",
              "    .dataframe tbody tr th {\n",
              "        vertical-align: top;\n",
              "    }\n",
              "\n",
              "    .dataframe thead th {\n",
              "        text-align: right;\n",
              "    }\n",
              "</style>\n",
              "<table border=\"1\" class=\"dataframe\">\n",
              "  <thead>\n",
              "    <tr style=\"text-align: right;\">\n",
              "      <th></th>\n",
              "      <th>x1</th>\n",
              "      <th>x2</th>\n",
              "      <th>y</th>\n",
              "    </tr>\n",
              "  </thead>\n",
              "  <tbody>\n",
              "    <tr>\n",
              "      <th>0</th>\n",
              "      <td>0.051267</td>\n",
              "      <td>0.69956</td>\n",
              "      <td>1</td>\n",
              "    </tr>\n",
              "    <tr>\n",
              "      <th>1</th>\n",
              "      <td>-0.092742</td>\n",
              "      <td>0.68494</td>\n",
              "      <td>1</td>\n",
              "    </tr>\n",
              "    <tr>\n",
              "      <th>2</th>\n",
              "      <td>-0.213710</td>\n",
              "      <td>0.69225</td>\n",
              "      <td>1</td>\n",
              "    </tr>\n",
              "    <tr>\n",
              "      <th>3</th>\n",
              "      <td>-0.375000</td>\n",
              "      <td>0.50219</td>\n",
              "      <td>1</td>\n",
              "    </tr>\n",
              "    <tr>\n",
              "      <th>4</th>\n",
              "      <td>-0.513250</td>\n",
              "      <td>0.46564</td>\n",
              "      <td>1</td>\n",
              "    </tr>\n",
              "  </tbody>\n",
              "</table>\n",
              "</div>\n",
              "      <button class=\"colab-df-convert\" onclick=\"convertToInteractive('df-927eb84a-31e1-4c14-86db-bb9d59b7523d')\"\n",
              "              title=\"Convert this dataframe to an interactive table.\"\n",
              "              style=\"display:none;\">\n",
              "        \n",
              "  <svg xmlns=\"http://www.w3.org/2000/svg\" height=\"24px\"viewBox=\"0 0 24 24\"\n",
              "       width=\"24px\">\n",
              "    <path d=\"M0 0h24v24H0V0z\" fill=\"none\"/>\n",
              "    <path d=\"M18.56 5.44l.94 2.06.94-2.06 2.06-.94-2.06-.94-.94-2.06-.94 2.06-2.06.94zm-11 1L8.5 8.5l.94-2.06 2.06-.94-2.06-.94L8.5 2.5l-.94 2.06-2.06.94zm10 10l.94 2.06.94-2.06 2.06-.94-2.06-.94-.94-2.06-.94 2.06-2.06.94z\"/><path d=\"M17.41 7.96l-1.37-1.37c-.4-.4-.92-.59-1.43-.59-.52 0-1.04.2-1.43.59L10.3 9.45l-7.72 7.72c-.78.78-.78 2.05 0 2.83L4 21.41c.39.39.9.59 1.41.59.51 0 1.02-.2 1.41-.59l7.78-7.78 2.81-2.81c.8-.78.8-2.07 0-2.86zM5.41 20L4 18.59l7.72-7.72 1.47 1.35L5.41 20z\"/>\n",
              "  </svg>\n",
              "      </button>\n",
              "      \n",
              "  <style>\n",
              "    .colab-df-container {\n",
              "      display:flex;\n",
              "      flex-wrap:wrap;\n",
              "      gap: 12px;\n",
              "    }\n",
              "\n",
              "    .colab-df-convert {\n",
              "      background-color: #E8F0FE;\n",
              "      border: none;\n",
              "      border-radius: 50%;\n",
              "      cursor: pointer;\n",
              "      display: none;\n",
              "      fill: #1967D2;\n",
              "      height: 32px;\n",
              "      padding: 0 0 0 0;\n",
              "      width: 32px;\n",
              "    }\n",
              "\n",
              "    .colab-df-convert:hover {\n",
              "      background-color: #E2EBFA;\n",
              "      box-shadow: 0px 1px 2px rgba(60, 64, 67, 0.3), 0px 1px 3px 1px rgba(60, 64, 67, 0.15);\n",
              "      fill: #174EA6;\n",
              "    }\n",
              "\n",
              "    [theme=dark] .colab-df-convert {\n",
              "      background-color: #3B4455;\n",
              "      fill: #D2E3FC;\n",
              "    }\n",
              "\n",
              "    [theme=dark] .colab-df-convert:hover {\n",
              "      background-color: #434B5C;\n",
              "      box-shadow: 0px 1px 3px 1px rgba(0, 0, 0, 0.15);\n",
              "      filter: drop-shadow(0px 1px 2px rgba(0, 0, 0, 0.3));\n",
              "      fill: #FFFFFF;\n",
              "    }\n",
              "  </style>\n",
              "\n",
              "      <script>\n",
              "        const buttonEl =\n",
              "          document.querySelector('#df-927eb84a-31e1-4c14-86db-bb9d59b7523d button.colab-df-convert');\n",
              "        buttonEl.style.display =\n",
              "          google.colab.kernel.accessAllowed ? 'block' : 'none';\n",
              "\n",
              "        async function convertToInteractive(key) {\n",
              "          const element = document.querySelector('#df-927eb84a-31e1-4c14-86db-bb9d59b7523d');\n",
              "          const dataTable =\n",
              "            await google.colab.kernel.invokeFunction('convertToInteractive',\n",
              "                                                     [key], {});\n",
              "          if (!dataTable) return;\n",
              "\n",
              "          const docLinkHtml = 'Like what you see? Visit the ' +\n",
              "            '<a target=\"_blank\" href=https://colab.research.google.com/notebooks/data_table.ipynb>data table notebook</a>'\n",
              "            + ' to learn more about interactive tables.';\n",
              "          element.innerHTML = '';\n",
              "          dataTable['output_type'] = 'display_data';\n",
              "          await google.colab.output.renderOutput(dataTable, element);\n",
              "          const docLink = document.createElement('div');\n",
              "          docLink.innerHTML = docLinkHtml;\n",
              "          element.appendChild(docLink);\n",
              "        }\n",
              "      </script>\n",
              "    </div>\n",
              "  </div>\n",
              "  "
            ]
          },
          "metadata": {},
          "execution_count": 3
        }
      ]
    },
    {
      "cell_type": "code",
      "source": [
        "def plotData(data, label_x, label_y, label_pos, label_neg, axes=None):\n",
        "    # Get indexes for class 0 and class 1\n",
        "    neg = data['y'] == 0\n",
        "    pos = data['y'] == 1\n",
        "\n",
        "    # If no specific axes object has been passed, get the current axes.\n",
        "    if axes == None:\n",
        "        axes = plt.gca()\n",
        "    axes.scatter(data[pos]['x1'], data[pos]['x2'], marker='+', c='orange', s=60, linewidth=2, label=label_pos)\n",
        "    axes.scatter(data[neg]['x1'], data[neg]['x2'], c='blue', s=60, label=label_neg)\n",
        "    axes.set_xlabel(label_x)\n",
        "    axes.set_ylabel(label_y)\n",
        "    axes.legend(frameon= True, fancybox = True);"
      ],
      "metadata": {
        "id": "WQsM0IONHNWP"
      },
      "execution_count": null,
      "outputs": []
    },
    {
      "cell_type": "code",
      "source": [
        "plotData(data, 'Microchip Test 1', 'Microchip Test 2', 'y = 1', 'y = 0')"
      ],
      "metadata": {
        "id": "mPAeH_KOHRru",
        "colab": {
          "base_uri": "https://localhost:8080/",
          "height": 279
        },
        "outputId": "82160cae-820d-462f-a074-492f00889f7c"
      },
      "execution_count": null,
      "outputs": [
        {
          "output_type": "display_data",
          "data": {
            "text/plain": [
              "<Figure size 432x288 with 1 Axes>"
            ],
            "image/png": "[encoded data removed]"
          },
          "metadata": {
            "needs_background": "light"
          }
        }
      ]
    },
    {
      "cell_type": "code",
      "source": [
        "n = data.shape[1]-1\n",
        "x = data[data.columns[0:n]]\n",
        "\n",
        "y = data[data.columns[n:n+1]]\n",
        "# convert to np.array\n",
        "X = x.values\n",
        "y = y.values\n",
        "pp.pprint(X)\n",
        "print(y)"
      ],
      "metadata": {
        "id": "v232jZmWHULu",
        "colab": {
          "base_uri": "https://localhost:8080/"
        },
        "outputId": "e52dd661-fff7-4b72-d08e-d4497282df4f"
      },
      "execution_count": null,
      "outputs": [
        {
          "output_type": "stream",
          "name": "stdout",
          "text": [
            "array([[ 0.051267 ,  0.69956  ],\n",
            "       [-0.092742 ,  0.68494  ],\n",
            "       [-0.21371  ,  0.69225  ],\n",
            "       [-0.375    ,  0.50219  ],\n",
            "       [-0.51325  ,  0.46564  ],\n",
            "       [-0.52477  ,  0.2098   ],\n",
            "       [-0.39804  ,  0.034357 ],\n",
            "       [-0.30588  , -0.19225  ],\n",
            "       [ 0.016705 , -0.40424  ],\n",
            "       [ 0.13191  , -0.51389  ],\n",
            "       [ 0.38537  , -0.56506  ],\n",
            "       [ 0.52938  , -0.5212   ],\n",
            "       [ 0.63882  , -0.24342  ],\n",
            "       [ 0.73675  , -0.18494  ],\n",
            "       [ 0.54666  ,  0.48757  ],\n",
            "       [ 0.322    ,  0.5826   ],\n",
            "       [ 0.16647  ,  0.53874  ],\n",
            "       [-0.046659 ,  0.81652  ],\n",
            "       [-0.17339  ,  0.69956  ],\n",
            "       [-0.47869  ,  0.63377  ],\n",
            "       [-0.60541  ,  0.59722  ],\n",
            "       [-0.62846  ,  0.33406  ],\n",
            "       [-0.59389  ,  0.005117 ],\n",
            "       [-0.42108  , -0.27266  ],\n",
            "       [-0.11578  , -0.39693  ],\n",
            "       [ 0.20104  , -0.60161  ],\n",
            "       [ 0.46601  , -0.53582  ],\n",
            "       [ 0.67339  , -0.53582  ],\n",
            "       [-0.13882  ,  0.54605  ],\n",
            "       [-0.29435  ,  0.77997  ],\n",
            "       [-0.26555  ,  0.96272  ],\n",
            "       [-0.16187  ,  0.8019   ],\n",
            "       [-0.17339  ,  0.64839  ],\n",
            "       [-0.28283  ,  0.47295  ],\n",
            "       [-0.36348  ,  0.31213  ],\n",
            "       [-0.30012  ,  0.027047 ],\n",
            "       [-0.23675  , -0.21418  ],\n",
            "       [-0.06394  , -0.18494  ],\n",
            "       [ 0.062788 , -0.16301  ],\n",
            "       [ 0.22984  , -0.41155  ],\n",
            "       [ 0.2932   , -0.2288   ],\n",
            "       [ 0.48329  , -0.18494  ],\n",
            "       [ 0.64459  , -0.14108  ],\n",
            "       [ 0.46025  ,  0.012427 ],\n",
            "       [ 0.6273   ,  0.15863  ],\n",
            "       [ 0.57546  ,  0.26827  ],\n",
            "       [ 0.72523  ,  0.44371  ],\n",
            "       [ 0.22408  ,  0.52412  ],\n",
            "       [ 0.44297  ,  0.67032  ],\n",
            "       [ 0.322    ,  0.69225  ],\n",
            "       [ 0.13767  ,  0.57529  ],\n",
            "       [-0.0063364,  0.39985  ],\n",
            "       [-0.092742 ,  0.55336  ],\n",
            "       [-0.20795  ,  0.35599  ],\n",
            "       [-0.20795  ,  0.17325  ],\n",
            "       [-0.43836  ,  0.21711  ],\n",
            "       [-0.21947  , -0.016813 ],\n",
            "       [-0.13882  , -0.27266  ],\n",
            "       [ 0.18376  ,  0.93348  ],\n",
            "       [ 0.22408  ,  0.77997  ],\n",
            "       [ 0.29896  ,  0.61915  ],\n",
            "       [ 0.50634  ,  0.75804  ],\n",
            "       [ 0.61578  ,  0.7288   ],\n",
            "       [ 0.60426  ,  0.59722  ],\n",
            "       [ 0.76555  ,  0.50219  ],\n",
            "       [ 0.92684  ,  0.3633   ],\n",
            "       [ 0.82316  ,  0.27558  ],\n",
            "       [ 0.96141  ,  0.085526 ],\n",
            "       [ 0.93836  ,  0.012427 ],\n",
            "       [ 0.86348  , -0.082602 ],\n",
            "       [ 0.89804  , -0.20687  ],\n",
            "       [ 0.85196  , -0.36769  ],\n",
            "       [ 0.82892  , -0.5212   ],\n",
            "       [ 0.79435  , -0.55775  ],\n",
            "       [ 0.59274  , -0.7405   ],\n",
            "       [ 0.51786  , -0.5943   ],\n",
            "       [ 0.46601  , -0.41886  ],\n",
            "       [ 0.35081  , -0.57968  ],\n",
            "       [ 0.28744  , -0.76974  ],\n",
            "       [ 0.085829 , -0.75512  ],\n",
            "       [ 0.14919  , -0.57968  ],\n",
            "       [-0.13306  , -0.4481   ],\n",
            "       [-0.40956  , -0.41155  ],\n",
            "       [-0.39228  , -0.25804  ],\n",
            "       [-0.74366  , -0.25804  ],\n",
            "       [-0.69758  ,  0.041667 ],\n",
            "       [-0.75518  ,  0.2902   ],\n",
            "       [-0.69758  ,  0.68494  ],\n",
            "       [-0.4038   ,  0.70687  ],\n",
            "       [-0.38076  ,  0.91886  ],\n",
            "       [-0.50749  ,  0.90424  ],\n",
            "       [-0.54781  ,  0.70687  ],\n",
            "       [ 0.10311  ,  0.77997  ],\n",
            "       [ 0.057028 ,  0.91886  ],\n",
            "       [-0.10426  ,  0.99196  ],\n",
            "       [-0.081221 ,  1.1089   ],\n",
            "       [ 0.28744  ,  1.087    ],\n",
            "       [ 0.39689  ,  0.82383  ],\n",
            "       [ 0.63882  ,  0.88962  ],\n",
            "       [ 0.82316  ,  0.66301  ],\n",
            "       [ 0.67339  ,  0.64108  ],\n",
            "       [ 1.0709   ,  0.10015  ],\n",
            "       [-0.046659 , -0.57968  ],\n",
            "       [-0.23675  , -0.63816  ],\n",
            "       [-0.15035  , -0.36769  ],\n",
            "       [-0.49021  , -0.3019   ],\n",
            "       [-0.46717  , -0.13377  ],\n",
            "       [-0.28859  , -0.060673 ],\n",
            "       [-0.61118  , -0.067982 ],\n",
            "       [-0.66302  , -0.21418  ],\n",
            "       [-0.59965  , -0.41886  ],\n",
            "       [-0.72638  , -0.082602 ],\n",
            "       [-0.83007  ,  0.31213  ],\n",
            "       [-0.72062  ,  0.53874  ],\n",
            "       [-0.59389  ,  0.49488  ],\n",
            "       [-0.48445  ,  0.99927  ],\n",
            "       [-0.0063364,  0.99927  ],\n",
            "       [ 0.63265  , -0.030612 ]])\n",
            "[[1]\n",
            " [1]\n",
            " [1]\n",
            " [1]\n",
            " [1]\n",
            " [1]\n",
            " [1]\n",
            " [1]\n",
            " [1]\n",
            " [1]\n",
            " [1]\n",
            " [1]\n",
            " [1]\n",
            " [1]\n",
            " [1]\n",
            " [1]\n",
            " [1]\n",
            " [1]\n",
            " [1]\n",
            " [1]\n",
            " [1]\n",
            " [1]\n",
            " [1]\n",
            " [1]\n",
            " [1]\n",
            " [1]\n",
            " [1]\n",
            " [1]\n",
            " [1]\n",
            " [1]\n",
            " [1]\n",
            " [1]\n",
            " [1]\n",
            " [1]\n",
            " [1]\n",
            " [1]\n",
            " [1]\n",
            " [1]\n",
            " [1]\n",
            " [1]\n",
            " [1]\n",
            " [1]\n",
            " [1]\n",
            " [1]\n",
            " [1]\n",
            " [1]\n",
            " [1]\n",
            " [1]\n",
            " [1]\n",
            " [1]\n",
            " [1]\n",
            " [1]\n",
            " [1]\n",
            " [1]\n",
            " [1]\n",
            " [1]\n",
            " [1]\n",
            " [1]\n",
            " [0]\n",
            " [0]\n",
            " [0]\n",
            " [0]\n",
            " [0]\n",
            " [0]\n",
            " [0]\n",
            " [0]\n",
            " [0]\n",
            " [0]\n",
            " [0]\n",
            " [0]\n",
            " [0]\n",
            " [0]\n",
            " [0]\n",
            " [0]\n",
            " [0]\n",
            " [0]\n",
            " [0]\n",
            " [0]\n",
            " [0]\n",
            " [0]\n",
            " [0]\n",
            " [0]\n",
            " [0]\n",
            " [0]\n",
            " [0]\n",
            " [0]\n",
            " [0]\n",
            " [0]\n",
            " [0]\n",
            " [0]\n",
            " [0]\n",
            " [0]\n",
            " [0]\n",
            " [0]\n",
            " [0]\n",
            " [0]\n",
            " [0]\n",
            " [0]\n",
            " [0]\n",
            " [0]\n",
            " [0]\n",
            " [0]\n",
            " [0]\n",
            " [0]\n",
            " [0]\n",
            " [0]\n",
            " [0]\n",
            " [0]\n",
            " [0]\n",
            " [0]\n",
            " [0]\n",
            " [0]\n",
            " [0]\n",
            " [0]\n",
            " [0]\n",
            " [0]\n",
            " [0]\n",
            " [0]]\n"
          ]
        }
      ]
    },
    {
      "cell_type": "code",
      "source": [
        "def mapFeature( x1col, x2col):\n",
        "    degrees = 10\n",
        "    out = np.ones( (x1col.shape[0], 1) )\n",
        "\n",
        "    for i in range(1, degrees+1):\n",
        "        for j in range(0, i+1):\n",
        "            term1 = x1col ** (i-j)\n",
        "            term2 = x2col ** (j)\n",
        "            term  = (term1 * term2).reshape( term1.shape[0], 1 )\n",
        "            out   = np.hstack(( out, term ))\n",
        "    return out"
      ],
      "metadata": {
        "id": "XgO2azaRdPCc"
      },
      "execution_count": null,
      "outputs": []
    },
    {
      "cell_type": "code",
      "source": [
        "XX = mapFeature(X[:,0],X[:,1])\n",
        "print(X.shape, XX.shape)"
      ],
      "metadata": {
        "id": "4zmnrt28HZF3",
        "colab": {
          "base_uri": "https://localhost:8080/"
        },
        "outputId": "2dc388f1-efcf-418c-eb22-59b368c07264"
      },
      "execution_count": null,
      "outputs": [
        {
          "output_type": "stream",
          "name": "stdout",
          "text": [
            "(118, 2) (118, 66)\n"
          ]
        }
      ]
    },
    {
      "cell_type": "code",
      "source": [
        "from scipy.special import expit #Vectorized sigmoid function\n",
        "\n",
        "#Hypothesis function and cost function for logistic regression\n",
        "def h(mytheta,myX): #Logistic hypothesis function\n",
        "    return expit(np.dot(myX,mytheta))"
      ],
      "metadata": {
        "id": "sxKJKwaKLP5G"
      },
      "execution_count": null,
      "outputs": []
    },
    {
      "cell_type": "code",
      "source": [
        "\n",
        "#Cost function, default lambda (regularization) 0\n",
        "def computeCost(mytheta,myX,myy,mylambda = 0.):\n",
        "\n",
        "    m = myy.size # number of training examples\n",
        "\n",
        "    term1 = np.dot(-np.array(myy).T,np.log(h(mytheta,myX)))\n",
        "    term2 = np.dot((1-np.array(myy)).T,np.log(1-h(mytheta,myX)))\n",
        "    regterm = (mylambda/2) * np.sum(np.dot(mytheta[1:].T,mytheta[1:])) #Skip theta0\n",
        "    return float( (1./m) * ( np.sum(term1 - term2) + regterm ) )"
      ],
      "metadata": {
        "id": "pSqGpkkbHetr"
      },
      "execution_count": null,
      "outputs": []
    },
    {
      "cell_type": "code",
      "source": [
        "def sigmoid(z):\n",
        "    z = np.clip( z, -500, 500 )           # protect against overflow\n",
        "    g = 1.0/(1.0+np.exp(-z))\n",
        "    return g"
      ],
      "metadata": {
        "id": "K2HMCPDSkUnz"
      },
      "execution_count": null,
      "outputs": []
    },
    {
      "cell_type": "code",
      "source": [
        "a = np.array([[1,2,3],[4,5,6]])\n",
        "b = np.array([-1,-2])\n",
        "modi = b.T * a[:,:1]\n",
        "print(modi)\n",
        "np.sum(modi[:])"
      ],
      "metadata": {
        "colab": {
          "base_uri": "https://localhost:8080/"
        },
        "id": "v9JptTb4fJc6",
        "outputId": "b87d55aa-a5cd-4068-bea7-ee1ebd639c2b"
      },
      "execution_count": null,
      "outputs": [
        {
          "output_type": "stream",
          "name": "stdout",
          "text": [
            "[[-1 -2]\n",
            " [-4 -8]]\n"
          ]
        },
        {
          "output_type": "execute_result",
          "data": {
            "text/plain": [
              "-15"
            ]
          },
          "metadata": {},
          "execution_count": 37
        }
      ]
    },
    {
      "cell_type": "code",
      "source": [
        "def compute_cost_logistic(X, y, w, b = 0):\n",
        "  m = X.shape[0]\n",
        "  predicted_m = np.dot(X, w)+ b\n",
        "  sigmoid_m = sigmoid(predicted_m)\n",
        "  cost_m = - y * np.log(sigmoid_m) - (1-y) * np.log(1-sigmoid_m)\n",
        "  cost = np.sum(cost_m)/m\n",
        "  return cost;"
      ],
      "metadata": {
        "id": "RLVy26udmaD8"
      },
      "execution_count": null,
      "outputs": []
    },
    {
      "cell_type": "code",
      "source": [
        "def compute_gradient_logstic(X,y,w):\n",
        "  m,n = X.shape\n",
        "  # dj_dw = np.zeros((n))\n",
        "  a = sigmoid(np.dot(X,w))\n",
        "  dj_dw = 1/m * np.dot(X.T,(a-y))\n",
        "  return dj_dw"
      ],
      "metadata": {
        "id": "BhV3G5FyRAMl"
      },
      "execution_count": null,
      "outputs": []
    },
    {
      "cell_type": "code",
      "source": [
        "def optimize_regularized_weight(w_in,X,y,alpha,num_iters, lambdha=0.):\n",
        "  J_history = []\n",
        "  m = X.shape[0]\n",
        "  w = copy.deepcopy(w_in)\n",
        "  for i in range(num_iters):\n",
        "    dj_dw = compute_gradient_logstic(X,y,w)\n",
        "    w = w*(1-(lambdha/m)) - alpha * dj_dw\n",
        "\n",
        "\n",
        "    if i% math.ceil(num_iters / 10) == 0:\n",
        "        J_history.append( compute_cost_logistic(X, y, w) )\n",
        "        print(f\"Iteration {i:4d}: Cost {J_history[-1]} : Weight {w[0]}  \")\n",
        "  min_cost = compute_cost_logistic(X, y, w)\n",
        "  return w.T , min_cost, J_history"
      ],
      "metadata": {
        "id": "FiwFBdBSPFuy"
      },
      "execution_count": null,
      "outputs": []
    },
    {
      "cell_type": "code",
      "source": [
        "J_log = []\n"
      ],
      "metadata": {
        "id": "2evcvBI6dwkU"
      },
      "execution_count": null,
      "outputs": []
    },
    {
      "cell_type": "code",
      "source": [
        "w_in = np.zeros((XX.shape[1],1))\n",
        "alpha = 0.1\n",
        "iterations = 10000\n",
        "lambdha = 10\n",
        "\n",
        "w_out, min_cost, J_history = optimize_regularized_weight(w_in, XX, y, alpha, iterations, lambdha)\n",
        "J_log.append(J_history)\n"
      ],
      "metadata": {
        "colab": {
          "base_uri": "https://localhost:8080/"
        },
        "id": "gWF0w62jbZ2o",
        "outputId": "ba10fa66-df88-4d0c-b014-34cd7d5d61a6"
      },
      "execution_count": null,
      "outputs": [
        {
          "output_type": "stream",
          "name": "stdout",
          "text": [
            "Iteration    0: Cost 0.6911003425253381 : Weight [-0.00084746]  \n",
            "Iteration 1000: Cost 0.6747939075565155 : Weight [0.00808234]  \n",
            "Iteration 2000: Cost 0.6747939075565155 : Weight [0.00808234]  \n",
            "Iteration 3000: Cost 0.6747939075565155 : Weight [0.00808234]  \n",
            "Iteration 4000: Cost 0.6747939075565155 : Weight [0.00808234]  \n",
            "Iteration 5000: Cost 0.6747939075565155 : Weight [0.00808234]  \n",
            "Iteration 6000: Cost 0.6747939075565155 : Weight [0.00808234]  \n",
            "Iteration 7000: Cost 0.6747939075565155 : Weight [0.00808234]  \n",
            "Iteration 8000: Cost 0.6747939075565155 : Weight [0.00808234]  \n",
            "Iteration 9000: Cost 0.6747939075565155 : Weight [0.00808234]  \n"
          ]
        }
      ]
    },
    {
      "cell_type": "code",
      "source": [
        "[row[-1] for row in J_log]"
      ],
      "metadata": {
        "colab": {
          "base_uri": "https://localhost:8080/"
        },
        "id": "6RhlgCJ7feMp",
        "outputId": "da0db1e9-8137-4a4d-dd1a-1cfb7810711d"
      },
      "execution_count": null,
      "outputs": [
        {
          "output_type": "execute_result",
          "data": {
            "text/plain": [
              "[0.33589812736190366,\n",
              " 0.33589812736190366,\n",
              " 0.609283496566788,\n",
              " 0.6624407575367436,\n",
              " 0.6747939075565155]"
            ]
          },
          "metadata": {},
          "execution_count": 85
        }
      ]
    },
    {
      "cell_type": "code",
      "source": [
        "from scipy import optimize\n",
        "initial_theta = np.zeros((XX.shape[1],1))\n",
        "\n",
        "def optimizeRegularizedTheta(mytheta,myX,myy,mylambda=0.):\n",
        "    result = optimize.minimize(computeCost, mytheta, args=(myX, myy, mylambda),  method='BFGS', options={\"maxiter\":500, \"disp\":False} )\n",
        "    return np.array([result.x]), result.fun\n",
        "\n",
        "theta, mincost = optimizeRegularizedTheta(initial_theta,XX,y)\n",
        "print(\"Theta:\", theta)\n",
        "print(mincost)"
      ],
      "metadata": {
        "id": "MiwC-euqIY9Q",
        "colab": {
          "base_uri": "https://localhost:8080/"
        },
        "outputId": "1e92c92f-96ef-401c-b234-282e05d704de"
      },
      "execution_count": null,
      "outputs": [
        {
          "output_type": "stream",
          "name": "stderr",
          "text": [
            "/usr/local/lib/python3.7/dist-packages/ipykernel_launcher.py:6: RuntimeWarning: divide by zero encountered in log\n",
            "  \n",
            "/usr/local/lib/python3.7/dist-packages/ipykernel_launcher.py:7: RuntimeWarning: divide by zero encountered in log\n",
            "  import sys\n"
          ]
        },
        {
          "output_type": "stream",
          "name": "stdout",
          "text": [
            "Theta: [[    868.84054058    4534.48962082    1095.66681739   -2757.61304326\n",
            "    -6310.91175485    4177.88229016  -23442.61782521   -1504.30450487\n",
            "   -40503.3033797    -5620.86894657   -6075.16799253   63349.01927081\n",
            "     6211.26629527  -10960.22428473  -27287.43128344   11821.51229956\n",
            "    20784.01796073  121820.62865485   -8233.99749389   92736.05945366\n",
            "    31481.33216037   34977.09014299 -122774.72426619  -45831.54534935\n",
            "    26826.60086923   -4748.73550875  -58394.49473922   15703.76946695\n",
            "    51579.91050489   -7724.86698557   16159.92278758   32259.10372842\n",
            "  -133265.42114397   40508.45797584   74309.22529075   -8764.15370967\n",
            "   -14956.11493949  -25890.65691832   -7531.66702002  -62491.68241741\n",
            "   -54118.00484462  -25095.67404217   -7772.05881517    6146.93414382\n",
            "   -35403.15687165   -6573.89903077    6529.09159978   29202.92552007\n",
            "    27939.62870326 -135925.40624907   13739.43600098  -33679.50093655\n",
            "    10569.30245065  -18361.10377732   17207.06191972  -81950.05512087\n",
            "    17890.56728162    2458.33596213   -7234.56860367  -29140.08159272\n",
            "   -67944.35256961  -31375.9601598    30908.51679927  -29228.01694343\n",
            "   -50813.0351505     5937.8316409 ]]\n",
            "nan\n"
          ]
        },
        {
          "output_type": "stream",
          "name": "stderr",
          "text": [
            "/usr/local/lib/python3.7/dist-packages/ipykernel_launcher.py:6: RuntimeWarning: divide by zero encountered in log\n",
            "  \n",
            "/usr/local/lib/python3.7/dist-packages/ipykernel_launcher.py:7: RuntimeWarning: divide by zero encountered in log\n",
            "  import sys\n",
            "/usr/local/lib/python3.7/dist-packages/ipykernel_launcher.py:6: RuntimeWarning: divide by zero encountered in log\n",
            "  \n",
            "/usr/local/lib/python3.7/dist-packages/ipykernel_launcher.py:7: RuntimeWarning: divide by zero encountered in log\n",
            "  import sys\n"
          ]
        }
      ]
    },
    {
      "cell_type": "code",
      "source": [
        "def plotBoundary(mytheta, myX, myy, mylambda=0.):\n",
        "    \"\"\"\n",
        "    Function to plot the decision boundary for arbitrary theta, X, y, lambda value\n",
        "    Inside of this function is feature mapping, and the minimization routine.\n",
        "    It works by making a grid of x1 (\"xvals\") and x2 (\"yvals\") points,\n",
        "    And for each, computing whether the hypothesis classifies that point as\n",
        "    True or False. Then, a contour is drawn with a built-in pyplot function.\n",
        "    \"\"\"\n",
        "    # Using sclearn package\n",
        "    # theta, mincost = optimizeRegularizedTheta(mytheta,myX,myy,mylambda)\n",
        "\n",
        "    # Using built_in function\n",
        "    alpha = 0.1\n",
        "    iterations = 10000\n",
        "    theta, mincost, _ = optimize_regularized_weight(mytheta,myX,myy,alpha,iterations,mylambda)\n",
        "\n",
        "    print(theta, theta.shape, '\\n\\nCost : ', mincost, '\\n \\n ')\n",
        "\n",
        "    xvals = np.linspace(-1,1.5,50)\n",
        "    yvals = np.linspace(-1,1.5,50)\n",
        "    zvals = np.zeros((len(xvals),len(yvals)))\n",
        "    for i in range(len(xvals)):\n",
        "        for j in range(len(yvals)):\n",
        "            myfeaturesij = mapFeature(np.array([xvals[i]]),np.array([yvals[j]]))\n",
        "            zvals[i][j] = np.dot(theta,myfeaturesij.T)\n",
        "            # print(type(zvals), zvals.shape)\n",
        "    zvals = zvals.transpose()\n",
        "\n",
        "    u, v = np.meshgrid( xvals, yvals )\n",
        "    mycontour = plt.contour( xvals, yvals, zvals, [0])\n",
        "    #Kind of a hacky way to display a text on top of the decision boundary\n",
        "    myfmt = { 0:'Lambda = %d'%mylambda}\n",
        "    plt.clabel(mycontour, inline=1, fontsize=15, fmt=myfmt)\n",
        "    plt.title(\"Decision Boundary\")"
      ],
      "metadata": {
        "id": "n3VQpykTQ1ip"
      },
      "execution_count": null,
      "outputs": []
    },
    {
      "cell_type": "code",
      "source": [
        "plt.figure(figsize=(12,10))\n",
        "plt.subplot(221)\n",
        "plotData(data, 'Microchip Test 1', 'Microchip Test 2', 'y = 1', 'y = 0')\n",
        "plotBoundary(initial_theta, XX, y, 0.)\n",
        "\n",
        "plt.subplot(222)\n",
        "plotData(data, 'Microchip Test 1', 'Microchip Test 2', 'y = 1', 'y = 0')\n",
        "plotBoundary(initial_theta,XX,y,1.)\n",
        "\n",
        "plt.subplot(223)\n",
        "plotData(data, 'Microchip Test 1', 'Microchip Test 2', 'y = 1', 'y = 0')\n",
        "plotBoundary(initial_theta,XX,y,10.)\n",
        "\n",
        "plt.subplot(224)\n",
        "plotData(data, 'Microchip Test 1', 'Microchip Test 2', 'y = 1', 'y = 0')\n",
        "plotBoundary(initial_theta,XX,y,50.)"
      ],
      "metadata": {
        "id": "JJvTscBAUJjT",
        "colab": {
          "base_uri": "https://localhost:8080/",
          "height": 1000
        },
        "outputId": "19f4b0b2-249f-4fcd-ad7c-0d30221be8ba"
      },
      "execution_count": null,
      "outputs": [
        {
          "output_type": "stream",
          "name": "stdout",
          "text": [
            "Iteration    0: Cost 0.6911003425253381 : Weight [-0.00084746]  \n",
            "Iteration 1000: Cost 0.44647789944266 : Weight [1.2648837]  \n",
            "Iteration 2000: Cost 0.39743613476639833 : Weight [1.80937377]  \n",
            "Iteration 3000: Cost 0.3746364734483639 : Weight [2.16265257]  \n",
            "Iteration 4000: Cost 0.36144330340135483 : Weight [2.42134979]  \n",
            "Iteration 5000: Cost 0.35283455673209946 : Weight [2.62317845]  \n",
            "Iteration 6000: Cost 0.3467608579176805 : Weight [2.78682502]  \n",
            "Iteration 7000: Cost 0.34223291454267 : Weight [2.92298006]  \n",
            "Iteration 8000: Cost 0.3387163893298174 : Weight [3.03837555]  \n",
            "Iteration 9000: Cost 0.33589812736190366 : Weight [3.13754822]  \n",
            "[[ 3.22363139  2.24852383  3.54472724 -4.73277929 -4.00251365 -5.08662265\n",
            "   1.3302565  -1.45164717 -0.81523695 -0.42015067 -3.52263632  0.21068614\n",
            "  -2.26033675 -1.30456876 -3.37850153 -0.1271164  -0.68090551  0.40326913\n",
            "  -1.32232433 -1.2711767  -0.24508788 -2.64604094  0.3110365  -0.95917012\n",
            "   0.30925148 -1.36694427 -0.90611378 -1.59994366 -0.70478407 -0.24615094\n",
            "   0.0825185  -0.50279066  0.11456383 -0.7825123  -1.12564416  0.21541996\n",
            "  -2.02021307  0.26351705 -0.47862392  0.15126656 -0.51791822  0.19543577\n",
            "  -0.79065119 -0.76947953 -0.48267292 -0.86603861 -0.06623635 -0.03716349\n",
            "  -0.17292517  0.02291527 -0.30050152  0.06672197 -0.451235   -0.94144908\n",
            "   0.53868813 -1.55371264  0.20209067 -0.28000096  0.080691   -0.21075716\n",
            "   0.07637809 -0.29707233  0.13296433 -0.45933927 -0.69543104  0.15650746]] (1, 66) \n",
            "\n",
            "Cost :  0.33358489599911845 \n",
            " \n",
            " \n",
            "Iteration    0: Cost 0.6911003425253381 : Weight [-0.00084746]  \n",
            "Iteration 1000: Cost 0.6092859593917092 : Weight [0.2283124]  \n",
            "Iteration 2000: Cost 0.6092834967967641 : Weight [0.2283258]  \n",
            "Iteration 3000: Cost 0.609283496566813 : Weight [0.2283258]  \n",
            "Iteration 4000: Cost 0.609283496566788 : Weight [0.2283258]  \n",
            "Iteration 5000: Cost 0.609283496566788 : Weight [0.2283258]  \n",
            "Iteration 6000: Cost 0.609283496566788 : Weight [0.2283258]  \n",
            "Iteration 7000: Cost 0.609283496566788 : Weight [0.2283258]  \n",
            "Iteration 8000: Cost 0.609283496566788 : Weight [0.2283258]  \n",
            "Iteration 9000: Cost 0.609283496566788 : Weight [0.2283258]  \n",
            "[[ 2.28325802e-01  1.03388645e-02  2.05858599e-01 -3.84615782e-01\n",
            "  -1.18320888e-01 -1.93650438e-01 -4.36326769e-02 -5.54660754e-02\n",
            "  -6.51321344e-02 -4.65234563e-02 -2.95877146e-01 -1.36347993e-02\n",
            "  -1.08159456e-01 -3.23299750e-02 -2.11408969e-01 -8.72393970e-02\n",
            "  -3.55453402e-02 -2.13409343e-02 -4.54337847e-02 -4.27621722e-02\n",
            "  -1.17608707e-01 -2.19026484e-01 -1.94507088e-03 -5.50532047e-02\n",
            "  -1.53765935e-03 -5.82548778e-02 -1.45937649e-02 -1.94519785e-01\n",
            "  -9.90079579e-02 -2.03821924e-02 -1.54185141e-02 -1.94310509e-02\n",
            "  -1.02730545e-02 -3.28947438e-02 -2.46304796e-02 -1.40354192e-01\n",
            "  -1.68342628e-01 -4.06100467e-04 -3.07471830e-02 -6.00910329e-04\n",
            "  -2.36424288e-02 -1.21648360e-04 -3.73264604e-02 -7.37764150e-03\n",
            "  -1.79394668e-01 -9.81083173e-02 -1.28958632e-02 -1.15091454e-02\n",
            "  -8.47773673e-03 -6.17391780e-03 -1.20318221e-02 -4.23822897e-03\n",
            "  -2.49150447e-02 -1.37918221e-02 -1.49160938e-01 -1.35304295e-01\n",
            "  -1.12379512e-03 -1.87661412e-02 -3.43487396e-04 -1.09949240e-02\n",
            "  -6.61601460e-04 -1.30441767e-02  7.18766167e-04 -2.66884152e-02\n",
            "  -3.77292824e-03 -1.70671063e-01]] (1, 66) \n",
            "\n",
            "Cost :  0.609283496566788 \n",
            " \n",
            " \n",
            "Iteration    0: Cost 0.6911003425253381 : Weight [-0.00084746]  \n",
            "Iteration 1000: Cost 0.6747939075565155 : Weight [0.00808234]  \n",
            "Iteration 2000: Cost 0.6747939075565155 : Weight [0.00808234]  \n",
            "Iteration 3000: Cost 0.6747939075565155 : Weight [0.00808234]  \n",
            "Iteration 4000: Cost 0.6747939075565155 : Weight [0.00808234]  \n",
            "Iteration 5000: Cost 0.6747939075565155 : Weight [0.00808234]  \n",
            "Iteration 6000: Cost 0.6747939075565155 : Weight [0.00808234]  \n",
            "Iteration 7000: Cost 0.6747939075565155 : Weight [0.00808234]  \n",
            "Iteration 8000: Cost 0.6747939075565155 : Weight [0.00808234]  \n",
            "Iteration 9000: Cost 0.6747939075565155 : Weight [0.00808234]  \n",
            "[[ 8.08233749e-03 -1.63183964e-02  9.56777135e-03 -5.29773836e-02\n",
            "  -1.32610473e-02 -3.41044464e-02 -1.72648106e-02 -7.33111415e-03\n",
            "  -8.86901777e-03 -1.89065411e-02 -4.19619119e-02 -2.31993468e-03\n",
            "  -1.36775399e-02 -3.59126613e-03 -3.72770618e-02 -1.98515185e-02\n",
            "  -4.56415462e-03 -3.51837354e-03 -6.01934754e-03 -5.04145457e-03\n",
            "  -2.79080172e-02 -3.28990858e-02 -1.00582364e-03 -6.86900410e-03\n",
            "  -3.97931666e-04 -7.65447353e-03 -1.60536630e-03 -3.68043231e-02\n",
            "  -2.01514926e-02 -2.87652307e-03 -2.43826800e-03 -2.37901755e-03\n",
            "  -1.46888280e-03 -4.69648550e-03 -2.79225582e-03 -3.17945526e-02\n",
            "  -2.71058392e-02 -8.16590049e-04 -3.89410304e-03 -2.19183224e-04\n",
            "  -2.96020476e-03 -1.29203663e-04 -5.24688106e-03 -8.50627022e-04\n",
            "  -3.67731707e-02 -1.96989724e-02 -2.10145133e-03 -1.76708930e-03\n",
            "  -1.03485586e-03 -8.86622731e-04 -1.55095675e-03 -5.99051406e-04\n",
            "  -3.84407889e-03 -1.60812381e-03 -3.44984835e-02 -2.35436231e-02\n",
            "  -9.05709464e-04 -2.43100228e-03 -1.38814974e-04 -1.37293333e-03\n",
            "  -1.46879627e-04 -1.68888950e-03  1.33083635e-05 -4.06325099e-03\n",
            "  -5.48509664e-04 -3.78221305e-02]] (1, 66) \n",
            "\n",
            "Cost :  0.6747939075565155 \n",
            " \n",
            " \n",
            "Iteration    0: Cost 0.6911003425253381 : Weight [-0.00084746]  \n",
            "Iteration 1000: Cost 0.6886005404095951 : Weight [-0.00096529]  \n",
            "Iteration 2000: Cost 0.6886005404095951 : Weight [-0.00096529]  \n",
            "Iteration 3000: Cost 0.6886005404095951 : Weight [-0.00096529]  \n",
            "Iteration 4000: Cost 0.6886005404095951 : Weight [-0.00096529]  \n",
            "Iteration 5000: Cost 0.6886005404095951 : Weight [-0.00096529]  \n",
            "Iteration 6000: Cost 0.6886005404095951 : Weight [-0.00096529]  \n",
            "Iteration 7000: Cost 0.6886005404095951 : Weight [-0.00096529]  \n",
            "Iteration 8000: Cost 0.6886005404095951 : Weight [-0.00096529]  \n",
            "Iteration 9000: Cost 0.6886005404095951 : Weight [-0.00096529]  \n",
            "[[-9.65292242e-04 -4.15931566e-03  5.13165971e-04 -1.15456362e-02\n",
            "  -2.70357635e-03 -8.32355474e-03 -4.12260824e-03 -1.65630643e-03\n",
            "  -1.89582410e-03 -5.06958434e-03 -9.06350853e-03 -5.13766959e-04\n",
            "  -2.95442055e-03 -7.29793086e-04 -8.79134598e-03 -4.53629456e-03\n",
            "  -9.92849297e-04 -7.76023478e-04 -1.33076453e-03 -1.04578780e-03\n",
            "  -6.86082163e-03 -7.14255208e-03 -2.45359030e-04 -1.45990257e-03\n",
            "  -9.26118148e-05 -1.66565579e-03 -3.25461215e-04 -8.68481391e-03\n",
            "  -4.54602907e-03 -6.28893984e-04 -5.33804648e-04 -5.10668904e-04\n",
            "  -3.16315537e-04 -1.04513680e-03 -5.74258168e-04 -7.69057677e-03\n",
            "  -5.93715988e-03 -2.05117063e-04 -8.25219868e-04 -5.29040764e-05\n",
            "  -6.31112881e-04 -3.17472542e-05 -1.15640464e-03 -1.75524580e-04\n",
            "  -8.74324070e-03 -4.43564918e-03 -4.66339346e-04 -3.84749270e-04\n",
            "  -2.20851952e-04 -1.91063408e-04 -3.34997011e-04 -1.28476523e-04\n",
            "  -8.64738713e-04 -3.34442150e-04 -8.33386831e-03 -5.20992264e-03\n",
            "  -2.23059146e-04 -5.15666815e-04 -3.38257274e-05 -2.90994903e-04\n",
            "  -3.36945835e-05 -3.62910573e-04 -1.82241360e-07 -9.08907529e-04\n",
            "  -1.20940771e-04 -9.07336447e-03]] (1, 66) \n",
            "\n",
            "Cost :  0.6886005404095951 \n",
            " \n",
            " \n"
          ]
        },
        {
          "output_type": "stream",
          "name": "stderr",
          "text": [
            "/usr/local/lib/python3.7/dist-packages/ipykernel_launcher.py:30: UserWarning: No contour levels were found within the data range.\n"
          ]
        },
        {
          "output_type": "display_data",
          "data": {
            "text/plain": [
              "<Figure size 864x720 with 4 Axes>"
            ],
            "image/png": "[encoded data removed]"
          },
          "metadata": {
            "needs_background": "light"
          }
        }
      ]
    }
  ]
}